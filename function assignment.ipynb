{
 "cells": [
  {
   "cell_type": "code",
   "execution_count": 1,
   "metadata": {},
   "outputs": [],
   "source": [
    "def subfields():\n",
    "    comment=\"Sub-fields in AI are:\"\n",
    "    subfields=[\"Machinelearning\" , \"Neural networks\" , \"Vision\", \"Robotics\", \"Speech processing\" ,\"Natural language processing\"]\n",
    "    print(comment)\n",
    "    for i in subfields:\n",
    "        print(i)"
   ]
  },
  {
   "cell_type": "code",
   "execution_count": 2,
   "metadata": {},
   "outputs": [
    {
     "name": "stdout",
     "output_type": "stream",
     "text": [
      "Sub-fields in AI are:\n",
      "Machinelearning\n",
      "Neural networks\n",
      "Vision\n",
      "Robotics\n",
      "Speech processing\n",
      "Natural language processing\n"
     ]
    }
   ],
   "source": [
    "subfields()"
   ]
  },
  {
   "cell_type": "code",
   "execution_count": 6,
   "metadata": {},
   "outputs": [],
   "source": [
    "def oddeven():\n",
    "    num=int(input(\"Enter a number:\"))\n",
    "    if(num%2==0):\n",
    "        print(\"4 is even number\")\n",
    "        message=\"4 is even number\"\n",
    "    else:\n",
    "        print(\"4 is odd number\")\n",
    "        message=\"4 is odd number\"\n",
    "    return message"
   ]
  },
  {
   "cell_type": "code",
   "execution_count": 5,
   "metadata": {},
   "outputs": [
    {
     "name": "stdout",
     "output_type": "stream",
     "text": [
      "Enter a number:4\n",
      "4 is even number\n"
     ]
    },
    {
     "data": {
      "text/plain": [
       "'4 is even number'"
      ]
     },
     "execution_count": 5,
     "metadata": {},
     "output_type": "execute_result"
    }
   ],
   "source": [
    "oddeven()"
   ]
  },
  {
   "cell_type": "code",
   "execution_count": 8,
   "metadata": {},
   "outputs": [],
   "source": [
    "def Elegible():\n",
    "    name=input(\"Your gender:\")\n",
    "    age=int(input(\"your age:\"))\n",
    "    if(age<=18):\n",
    "        print(\"not eligible\")\n",
    "        marriage=\"not eligible\"\n",
    "    else:\n",
    "        print(\"eligible\")\n",
    "        marriage=\"eligible\"\n",
    "        return marriage"
   ]
  },
  {
   "cell_type": "code",
   "execution_count": 10,
   "metadata": {},
   "outputs": [
    {
     "name": "stdout",
     "output_type": "stream",
     "text": [
      "Your gender:male\n",
      "your age:25\n",
      "eligible\n"
     ]
    },
    {
     "data": {
      "text/plain": [
       "'eligible'"
      ]
     },
     "execution_count": 10,
     "metadata": {},
     "output_type": "execute_result"
    }
   ],
   "source": [
    "Elegible()"
   ]
  },
  {
   "cell_type": "code",
   "execution_count": 1,
   "metadata": {},
   "outputs": [],
   "source": [
    "def percentage():\n",
    "    m1=int(input(\"subject1:\"))\n",
    "    m2=int(input(\"subject2:\"))\n",
    "    m3=int(input(\"subject3:\"))\n",
    "    m4=int(input(\"subject4:\"))\n",
    "    m5=int(input(\"subject5:\"))\n",
    "    total=m1+m2+m3+m4+m5\n",
    "    print(\"total:\",total)\n",
    "    percentage=total/5\n",
    "    print(\"percentage:\",percentage)"
   ]
  },
  {
   "cell_type": "code",
   "execution_count": 2,
   "metadata": {},
   "outputs": [
    {
     "name": "stdout",
     "output_type": "stream",
     "text": [
      "subject1:78\n",
      "subject2:98\n",
      "subject3:67\n",
      "subject4:85\n",
      "subject5:89\n",
      "total: 417\n",
      "percentage: 83.4\n"
     ]
    }
   ],
   "source": [
    "per=percentage()"
   ]
  },
  {
   "cell_type": "code",
   "execution_count": 4,
   "metadata": {},
   "outputs": [],
   "source": [
    "def triangle():\n",
    "    height=int(input(\"height:\"))\n",
    "    breadth=int(input(\"breadth:\"))\n",
    "    print(\"areaformula:(height*breadth)/2\")\n",
    "    areaformula=(height*breadth)/2\n",
    "    print(\"Area of triangle:\",areaformula)\n",
    "    height1=int(input(\"height1:\"))\n",
    "    height2=int(input(\"height2:\"))\n",
    "    breadth=int(input(\"breadth:\"))\n",
    "    print(\"perimeter formula:height1+height2+height3\")\n",
    "    perimeteroftriangle=height1+height2+breadth\n",
    "    print(\"perimeter of triangle\",perimeteroftriangle)"
   ]
  },
  {
   "cell_type": "code",
   "execution_count": 5,
   "metadata": {},
   "outputs": [
    {
     "name": "stdout",
     "output_type": "stream",
     "text": [
      "height:3\n",
      "breadth:4\n",
      "areaformula:(height*breadth)/2\n",
      "Area of triangle: 6.0\n",
      "height1:5\n",
      "height2:6\n",
      "breadth:7\n",
      "perimeter formula:height1+height2+height3\n",
      "perimeter of triangle 18\n"
     ]
    }
   ],
   "source": [
    "triangle()"
   ]
  },
  {
   "cell_type": "code",
   "execution_count": null,
   "metadata": {},
   "outputs": [],
   "source": []
  }
 ],
 "metadata": {
  "kernelspec": {
   "display_name": "Python 3",
   "language": "python",
   "name": "python3"
  },
  "language_info": {
   "codemirror_mode": {
    "name": "ipython",
    "version": 3
   },
   "file_extension": ".py",
   "mimetype": "text/x-python",
   "name": "python",
   "nbconvert_exporter": "python",
   "pygments_lexer": "ipython3",
   "version": "3.7.4"
  }
 },
 "nbformat": 4,
 "nbformat_minor": 2
}
